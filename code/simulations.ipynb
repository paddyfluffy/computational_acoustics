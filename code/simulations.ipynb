{
 "cells": [
  {
   "cell_type": "code",
   "execution_count": 20,
   "id": "7634077c",
   "metadata": {},
   "outputs": [],
   "source": [
    "import os\n",
    "from dolfinx import mesh, io\n",
    "from mpi4py import MPI\n",
    "import numpy as np\n",
    "from mpi4py import MPI\n",
    "from petsc4py import PETSc\n",
    "from dolfinx import geometry\n",
    "from dolfinx.io import gmshio, XDMFFile, VTXWriter\n",
    "from dolfinx.fem import functionspace, Function, Constant\n",
    "from dolfinx.fem.petsc import LinearProblem\n",
    "import ufl\n",
    "from ufl import grad, inner, Measure\n",
    "from dolfinx import log, default_scalar_type\n",
    "import dolfinx.fem.petsc as dfx_petsc\n",
    "\n",
    "os.chdir(\"/home/acoustics/\")\n",
    "from utils.acoustics_utils import MicrophonePressure\n",
    "from utils.mesh_utils import read_xdmf_data\n",
    "from utils.gmsh_step_mesher import load_pickle\n",
    "\n",
    "mesh_folder = os.path.join(os.getcwd(), \"meshes\")\n",
    "RESULTS = os.path.join(os.getcwd(), \"results\")\n"
   ]
  },
  {
   "cell_type": "code",
   "execution_count": 21,
   "id": "710c6e85",
   "metadata": {},
   "outputs": [],
   "source": [
    "# Load mesh and data\n",
    "PKL_PATH = \"/home/acoustics/meshes/4_5_2p5_data.pkl\"\n",
    "DATA_DICT = load_pickle(PKL_PATH)\n",
    "VOL_DICT = DATA_DICT[\"volume\"]\n",
    "ORIENTATION = DATA_DICT[\"orientation\"]\n",
    "XDMF_PATH = DATA_DICT[\"xdmf_path\"]"
   ]
  },
  {
   "cell_type": "code",
   "execution_count": 22,
   "id": "e32b6dc9",
   "metadata": {},
   "outputs": [],
   "source": [
    "gdim = 3\n",
    "domain, ct, ft = read_xdmf_data(xdmfPath=XDMF_PATH, comm=MPI.COMM_WORLD, gdim=gdim)\n",
    "domain.topology.create_connectivity(0, domain.topology.dim) \n",
    "deg = 2\n",
    "V = functionspace(domain, (\"CG\", deg))\n",
    "u = ufl.TrialFunction(V)\n",
    "v = ufl.TestFunction(V)\n",
    "\n",
    "# Discrete frequency range\n",
    "freq = np.arange(10, 1000, 5)  # Hz\n",
    "\n",
    "# Air parameters\n",
    "rho0 = 1.225  # kg/m^3\n",
    "c = 340  # m/s\n"
   ]
  },
  {
   "cell_type": "code",
   "execution_count": 23,
   "id": "6ff87f3d",
   "metadata": {},
   "outputs": [],
   "source": [
    "# Impedance calculation\n",
    "def delany_bazley_layer(f, rho0, c, sigma):\n",
    "    X = rho0 * f / sigma\n",
    "    Zc = rho0 * c * (1 + 0.0571 * X**-0.754 - 1j * 0.087 * X**-0.732)\n",
    "    kc = 2 * np.pi * f / c * (1 + 0.0978 * (X**-0.700) - 1j * 0.189 * (X**-0.595))\n",
    "    Z_s = -1j * Zc * (1 / np.tan(kc * d))\n",
    "    return Z_s\n",
    "\n",
    "\n",
    "sigma = 1.5e4\n",
    "d = 0.01\n",
    "Z_s = delany_bazley_layer(freq, rho0, c, sigma)"
   ]
  },
  {
   "cell_type": "code",
   "execution_count": 24,
   "id": "ca95bff3",
   "metadata": {},
   "outputs": [],
   "source": [
    "omega = Constant(domain, default_scalar_type(0))\n",
    "k = Constant(domain, default_scalar_type(0))\n",
    "Z = Constant(domain, default_scalar_type(0))\n",
    "v_n = 1e-5"
   ]
  },
  {
   "cell_type": "code",
   "execution_count": 25,
   "id": "7c759f89",
   "metadata": {},
   "outputs": [],
   "source": [
    "ds = ufl.Measure(\"ds\", domain=domain, subdomain_data=ft)"
   ]
  },
  {
   "cell_type": "code",
   "execution_count": 26,
   "id": "63ed9978",
   "metadata": {},
   "outputs": [],
   "source": [
    "p = ufl.TrialFunction(V)\n",
    "v = ufl.TestFunction(V)\n",
    "\n",
    "a = (\n",
    "    ufl.inner(ufl.grad(p), ufl.grad(v)) * ufl.dx\n",
    "    + 1j * rho0 * omega / Z * ufl.inner(p, v) * ds(VOL_DICT[1][0])\n",
    "    - k**2 * ufl.inner(p, v) * ufl.dx\n",
    ")\n",
    "L = -1j * omega * rho0 * ufl.inner(v_n, v) * ds(VOL_DICT[1][1])"
   ]
  },
  {
   "cell_type": "code",
   "execution_count": 27,
   "id": "d562c42b",
   "metadata": {},
   "outputs": [],
   "source": [
    "p_a = Function(V)\n",
    "p_a.name = \"pressure\"\n",
    "\n",
    "problem = LinearProblem(\n",
    "    a,\n",
    "    L,\n",
    "    u=p_a,\n",
    "    petsc_options={\n",
    "        \"ksp_type\": \"preonly\",\n",
    "        \"pc_type\": \"lu\",\n",
    "        \"pc_factor_mat_solver_type\": \"mumps\",\n",
    "    },\n",
    ")\n",
    "\n",
    "p_mic = np.zeros((len(freq), 1), dtype=complex)\n",
    "\n",
    "mic = np.array([0.5, 0.05, 0.05])\n",
    "microphone = MicrophonePressure(domain, mic)"
   ]
  },
  {
   "cell_type": "code",
   "execution_count": null,
   "id": "386f7ba3",
   "metadata": {},
   "outputs": [],
   "source": [
    "from dolfinx.io import VTXWriter\n",
    "import os\n",
    "\n",
    "t0 = 0.0\n",
    "t1 = 1\n",
    "dt = 0.01\n",
    "num_time_steps = int((t1 - t0) / dt)\n",
    "\n",
    "\n",
    "results = \"/home/acoustics/results\"\n",
    "for nf in range(0, len(freq)):\n",
    "    k.value = 2 * np.pi * freq[nf] / c\n",
    "    omega.value = 2 * np.pi * freq[nf]\n",
    "    Z.value = Z_s[nf]\n",
    "\n",
    "    time_function = Function(V)\n",
    "    time_function.name = \"pressure\"\n",
    "\n",
    "    pressure_real = p_a.x.array.real\n",
    "    pressure_imag = p_a.x.array.imag\n",
    "    \n",
    "    problem.solve()\n",
    "    p_a.x.scatter_forward()\n",
    "    # with VTXWriter(MPI.COMM_WORLD, os.path.join(results, f\"pressure_output_{freq[nf]}.bp\"), [p_a]) as writer:\n",
    "    #     writer.write(0.0)\n",
    "\n",
    "    with VTXWriter(MPI.COMM_WORLD, os.path.join(results, f\"pressure_field_{freq[nf]}.bp\"), [time_function]) as writer:\n",
    "        for step in range(num_time_steps):\n",
    "            t = t0 + step * dt\n",
    "            time_factor_value = np.exp(1j * omega.value * t)\n",
    "            timestepped = pressure_real * np.cos(omega.value * t) - pressure_imag * np.sin(omega.value * t)\n",
    "            time_function.x.array[:] = timestepped\n",
    "            time_function.x.array[:] = time_function.x.array.real\n",
    "            time_function.x.scatter_forward()\n",
    "            writer.write(t)\n",
    "\n",
    "    p_f = microphone.listen(p_a)\n",
    "    p_f = domain.comm.gather(p_f, root=0)\n",
    "\n",
    "    if domain.comm.rank == 0:\n",
    "        assert p_f is not None\n",
    "        p_mic[nf] = np.hstack(p_f)"
   ]
  }
 ],
 "metadata": {
  "kernelspec": {
   "display_name": "dolfinx-env",
   "language": "python",
   "name": "python3"
  },
  "language_info": {
   "codemirror_mode": {
    "name": "ipython",
    "version": 3
   },
   "file_extension": ".py",
   "mimetype": "text/x-python",
   "name": "python",
   "nbconvert_exporter": "python",
   "pygments_lexer": "ipython3",
   "version": "3.12.3"
  }
 },
 "nbformat": 4,
 "nbformat_minor": 5
}
